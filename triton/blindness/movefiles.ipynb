{
 "cells": [
  {
   "cell_type": "code",
   "execution_count": 1,
   "id": "561f26d8",
   "metadata": {},
   "outputs": [],
   "source": [
    "import numpy as np\n",
    "import pandas as pd\n",
    "import os\n",
    "import shutil\n",
    "\n",
    "fpath = \"/home/arttu/Documents/research/blindness/\""
   ]
  },
  {
   "cell_type": "markdown",
   "id": "0958b2d2",
   "metadata": {},
   "source": [
    "### Originally, the image data is in one train folder and the labels are found from a separate csv file. We need to divide the images from the single folder to different folders based on their labels which are listed in the csv file."
   ]
  },
  {
   "cell_type": "code",
   "execution_count": 16,
   "id": "2c1bc669",
   "metadata": {},
   "outputs": [
    {
     "data": {
      "text/html": [
       "<div>\n",
       "<style scoped>\n",
       "    .dataframe tbody tr th:only-of-type {\n",
       "        vertical-align: middle;\n",
       "    }\n",
       "\n",
       "    .dataframe tbody tr th {\n",
       "        vertical-align: top;\n",
       "    }\n",
       "\n",
       "    .dataframe thead th {\n",
       "        text-align: right;\n",
       "    }\n",
       "</style>\n",
       "<table border=\"1\" class=\"dataframe\">\n",
       "  <thead>\n",
       "    <tr style=\"text-align: right;\">\n",
       "      <th></th>\n",
       "      <th>diagnosis</th>\n",
       "    </tr>\n",
       "    <tr>\n",
       "      <th>id_code</th>\n",
       "      <th></th>\n",
       "    </tr>\n",
       "  </thead>\n",
       "  <tbody>\n",
       "    <tr>\n",
       "      <th>000c1434d8d7</th>\n",
       "      <td>2</td>\n",
       "    </tr>\n",
       "    <tr>\n",
       "      <th>001639a390f0</th>\n",
       "      <td>4</td>\n",
       "    </tr>\n",
       "    <tr>\n",
       "      <th>0024cdab0c1e</th>\n",
       "      <td>1</td>\n",
       "    </tr>\n",
       "    <tr>\n",
       "      <th>002c21358ce6</th>\n",
       "      <td>0</td>\n",
       "    </tr>\n",
       "    <tr>\n",
       "      <th>005b95c28852</th>\n",
       "      <td>0</td>\n",
       "    </tr>\n",
       "    <tr>\n",
       "      <th>...</th>\n",
       "      <td>...</td>\n",
       "    </tr>\n",
       "    <tr>\n",
       "      <th>ffa47f6a7bf4</th>\n",
       "      <td>2</td>\n",
       "    </tr>\n",
       "    <tr>\n",
       "      <th>ffc04fed30e6</th>\n",
       "      <td>0</td>\n",
       "    </tr>\n",
       "    <tr>\n",
       "      <th>ffcf7b45f213</th>\n",
       "      <td>2</td>\n",
       "    </tr>\n",
       "    <tr>\n",
       "      <th>ffd97f8cd5aa</th>\n",
       "      <td>0</td>\n",
       "    </tr>\n",
       "    <tr>\n",
       "      <th>ffec9a18a3ce</th>\n",
       "      <td>2</td>\n",
       "    </tr>\n",
       "  </tbody>\n",
       "</table>\n",
       "<p>3662 rows × 1 columns</p>\n",
       "</div>"
      ],
      "text/plain": [
       "              diagnosis\n",
       "id_code                \n",
       "000c1434d8d7          2\n",
       "001639a390f0          4\n",
       "0024cdab0c1e          1\n",
       "002c21358ce6          0\n",
       "005b95c28852          0\n",
       "...                 ...\n",
       "ffa47f6a7bf4          2\n",
       "ffc04fed30e6          0\n",
       "ffcf7b45f213          2\n",
       "ffd97f8cd5aa          0\n",
       "ffec9a18a3ce          2\n",
       "\n",
       "[3662 rows x 1 columns]"
      ]
     },
     "execution_count": 16,
     "metadata": {},
     "output_type": "execute_result"
    }
   ],
   "source": [
    "labels = pd.read_csv(fpath+'labels.csv').set_index('id_code')\n",
    "labels"
   ]
  },
  {
   "cell_type": "code",
   "execution_count": 3,
   "id": "b01b7909",
   "metadata": {},
   "outputs": [
    {
     "data": {
      "text/plain": [
       "3662"
      ]
     },
     "execution_count": 3,
     "metadata": {},
     "output_type": "execute_result"
    }
   ],
   "source": [
    "imgs = os.listdir(fpath+'images')\n",
    "len(imgs)"
   ]
  },
  {
   "cell_type": "code",
   "execution_count": 20,
   "id": "6d1e2eef",
   "metadata": {},
   "outputs": [
    {
     "data": {
      "text/plain": [
       "(1857, 1805)"
      ]
     },
     "execution_count": 20,
     "metadata": {},
     "output_type": "execute_result"
    }
   ],
   "source": [
    "DR = []\n",
    "normal = []\n",
    "for img in imgs:\n",
    "    if labels.loc[img[:-4], 'diagnosis'] > 0:\n",
    "        DR.append(img)\n",
    "    else:\n",
    "        normal.append(img)\n",
    "\n",
    "len(DR), len(normal)"
   ]
  },
  {
   "cell_type": "code",
   "execution_count": 22,
   "id": "c7b05418",
   "metadata": {},
   "outputs": [],
   "source": [
    "src_path = fpath+'images/'\n",
    "dst_path = fpath+'images/DR/'\n",
    "for img in DR:\n",
    "    shutil.move(src_path+img, dst_path+img)"
   ]
  },
  {
   "cell_type": "code",
   "execution_count": 23,
   "id": "42aefc79",
   "metadata": {},
   "outputs": [],
   "source": [
    "src_path = fpath+'images/'\n",
    "dst_path = fpath+'images/NORMAL/'\n",
    "for img in normal:\n",
    "    shutil.move(src_path+img, dst_path+img)"
   ]
  },
  {
   "cell_type": "code",
   "execution_count": null,
   "id": "88277db7",
   "metadata": {},
   "outputs": [],
   "source": []
  }
 ],
 "metadata": {
  "kernelspec": {
   "display_name": "Python 3",
   "language": "python",
   "name": "python3"
  },
  "language_info": {
   "codemirror_mode": {
    "name": "ipython",
    "version": 3
   },
   "file_extension": ".py",
   "mimetype": "text/x-python",
   "name": "python",
   "nbconvert_exporter": "python",
   "pygments_lexer": "ipython3",
   "version": "3.6.12"
  }
 },
 "nbformat": 4,
 "nbformat_minor": 5
}
