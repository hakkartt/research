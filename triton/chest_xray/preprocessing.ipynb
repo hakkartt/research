{
 "cells": [
  {
   "cell_type": "code",
   "execution_count": 27,
   "id": "74a6ca76",
   "metadata": {},
   "outputs": [],
   "source": [
    "import pandas as pd\n",
    "import numpy as np\n",
    "import os\n",
    "import shutil\n",
    "fpath = \"/home/arttu/Documents/research/chest_xray/data/\""
   ]
  },
  {
   "cell_type": "markdown",
   "id": "43a1fd2e",
   "metadata": {},
   "source": [
    "Data preprocessing\n",
    "\n",
    "   - Split data into fixed 'train', 'validation' and 'test' sets. In pytorch, you need to use different dataloaders. For test dataloader, make sure shuffle option is set to False.\n",
    "   - Also note down how may positive and negative samples you have in each of the splits. (we need to keep this ratio same across all three splits)"
   ]
  },
  {
   "cell_type": "code",
   "execution_count": 28,
   "id": "136782c3",
   "metadata": {},
   "outputs": [
    {
     "data": {
      "text/plain": [
       "(0.7296789617486339, 0.2703210382513661)"
      ]
     },
     "execution_count": 28,
     "metadata": {},
     "output_type": "execute_result"
    }
   ],
   "source": [
    "pos_imgs = os.listdir(fpath+'images/PNEUNOMIA')\n",
    "neg_imgs = os.listdir(fpath+'images/NORMAL')\n",
    "pos_ratio = len(pos_imgs) / (len(pos_imgs) + len(neg_imgs))\n",
    "neg_ratio = len(neg_imgs) / (len(pos_imgs) + len(neg_imgs))\n",
    "pos_ratio, neg_ratio"
   ]
  },
  {
   "cell_type": "markdown",
   "id": "a4791b78",
   "metadata": {},
   "source": [
    "train 80%, test 15%, val 5%"
   ]
  },
  {
   "cell_type": "code",
   "execution_count": 29,
   "id": "18d86011",
   "metadata": {},
   "outputs": [
    {
     "data": {
      "text/plain": [
       "(3418, 641, 214)"
      ]
     },
     "execution_count": 29,
     "metadata": {},
     "output_type": "execute_result"
    }
   ],
   "source": [
    "pos80 = int(np.round(len(pos_imgs)*0.8))\n",
    "pos15 = int(np.round(len(pos_imgs)*0.15))\n",
    "pos5 = int(np.round(len(pos_imgs)*0.05))\n",
    "pos80, pos15, pos5"
   ]
  },
  {
   "cell_type": "code",
   "execution_count": 30,
   "id": "c8087f33",
   "metadata": {},
   "outputs": [],
   "source": [
    "src_path = fpath+'images/PNEUNOMIA/'\n",
    "\n",
    "dst_path = fpath+'train/pos/'\n",
    "for img in pos_imgs[:pos80]:\n",
    "    shutil.move(src_path+img, dst_path+img)\n",
    "\n",
    "dst_path = fpath+'test/pos/'\n",
    "for img in pos_imgs[pos80:pos80+pos15]:\n",
    "    shutil.move(src_path+img, dst_path+img)\n",
    "    \n",
    "dst_path = fpath+'val/pos/'\n",
    "for img in pos_imgs[pos80+pos15:pos80+pos15+pos5]:\n",
    "    shutil.move(src_path+img, dst_path+img)"
   ]
  },
  {
   "cell_type": "code",
   "execution_count": 31,
   "id": "93e45f05",
   "metadata": {},
   "outputs": [
    {
     "data": {
      "text/plain": [
       "(1266, 237, 79)"
      ]
     },
     "execution_count": 31,
     "metadata": {},
     "output_type": "execute_result"
    }
   ],
   "source": [
    "neg80 = int(np.round(len(neg_imgs)*0.8))\n",
    "neg15 = int(np.round(len(neg_imgs)*0.15))\n",
    "neg5 = int(np.round(len(neg_imgs)*0.05))\n",
    "neg80, neg15, neg5"
   ]
  },
  {
   "cell_type": "code",
   "execution_count": 32,
   "id": "ea2afc60",
   "metadata": {},
   "outputs": [],
   "source": [
    "src_path = fpath+'images/NORMAL/'\n",
    "\n",
    "dst_path = fpath+'train/neg/'\n",
    "for img in neg_imgs[:neg80]:\n",
    "    shutil.move(src_path+img, dst_path+img)\n",
    "\n",
    "dst_path = fpath+'test/neg/'\n",
    "for img in neg_imgs[neg80:neg80+neg15]:\n",
    "    shutil.move(src_path+img, dst_path+img)\n",
    "    \n",
    "dst_path = fpath+'val/neg/'\n",
    "for img in neg_imgs[neg80+neg15:neg80+neg15+neg5]:\n",
    "    shutil.move(src_path+img, dst_path+img)"
   ]
  },
  {
   "cell_type": "code",
   "execution_count": 33,
   "id": "d066e477",
   "metadata": {},
   "outputs": [
    {
     "data": {
      "text/plain": [
       "'IM-0538-0001.jpeg'"
      ]
     },
     "execution_count": 33,
     "metadata": {},
     "output_type": "execute_result"
    }
   ],
   "source": [
    "neg_imgs[-1]"
   ]
  },
  {
   "cell_type": "code",
   "execution_count": null,
   "id": "6ae24ddb",
   "metadata": {},
   "outputs": [],
   "source": []
  }
 ],
 "metadata": {
  "kernelspec": {
   "display_name": "Python 3",
   "language": "python",
   "name": "python3"
  },
  "language_info": {
   "codemirror_mode": {
    "name": "ipython",
    "version": 3
   },
   "file_extension": ".py",
   "mimetype": "text/x-python",
   "name": "python",
   "nbconvert_exporter": "python",
   "pygments_lexer": "ipython3",
   "version": "3.6.12"
  }
 },
 "nbformat": 4,
 "nbformat_minor": 5
}
