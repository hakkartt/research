{
 "cells": [
  {
   "cell_type": "code",
   "execution_count": 7,
   "id": "74a6ca76",
   "metadata": {},
   "outputs": [],
   "source": [
    "import pandas as pd\n",
    "import numpy as np\n",
    "import os\n",
    "import shutil\n",
    "fpath = \"/home/arttu/Documents/research/melanoma/data/\""
   ]
  },
  {
   "cell_type": "markdown",
   "id": "43a1fd2e",
   "metadata": {},
   "source": [
    "Data preprocessing\n",
    "\n",
    "   - Split data into fixed 'train', 'validation' and 'test' sets. In pytorch, you need to use different dataloaders. For test dataloader, make sure shuffle option is set to False.\n",
    "   - Also note down how may positive and negative samples you have in each of the splits. (we need to keep this ratio same across all three splits)"
   ]
  },
  {
   "cell_type": "code",
   "execution_count": 8,
   "id": "136782c3",
   "metadata": {},
   "outputs": [],
   "source": [
    "VASC = os.listdir(fpath+'images/VASC')\n",
    "UNK = os.listdir(fpath+'images/UNK')\n",
    "SCC = os.listdir(fpath+'images/SCC')\n",
    "NV = os.listdir(fpath+'images/NV')\n",
    "MEL = os.listdir(fpath+'images/MEL')\n",
    "DF = os.listdir(fpath+'images/DF')\n",
    "BKL = os.listdir(fpath+'images/BKL')\n",
    "BCC = os.listdir(fpath+'images/BCC')\n",
    "AK = os.listdir(fpath+'images/AK')"
   ]
  },
  {
   "cell_type": "markdown",
   "id": "a4791b78",
   "metadata": {},
   "source": [
    "train 80%, test 15%, val 5%"
   ]
  },
  {
   "cell_type": "code",
   "execution_count": 9,
   "id": "18d86011",
   "metadata": {},
   "outputs": [
    {
     "data": {
      "text/plain": [
       "(202, 38, 13)"
      ]
     },
     "execution_count": 9,
     "metadata": {},
     "output_type": "execute_result"
    }
   ],
   "source": [
    "VASC80 = int(np.round(len(VASC)*0.8))\n",
    "VASC15 = int(np.round(len(VASC)*0.15))\n",
    "VASC5 = int(np.round(len(VASC)*0.05))\n",
    "VASC80, VASC15, VASC5"
   ]
  },
  {
   "cell_type": "code",
   "execution_count": 10,
   "id": "c8087f33",
   "metadata": {},
   "outputs": [
    {
     "name": "stdout",
     "output_type": "stream",
     "text": [
      "202\n",
      "38\n",
      "13\n"
     ]
    }
   ],
   "source": [
    "src_path = fpath+'images/VASC/'\n",
    "\n",
    "dst_path = fpath+'train/VASC/'\n",
    "for img in VASC[:VASC80]:\n",
    "    shutil.move(src_path+img, dst_path+img)\n",
    "print(len(os.listdir(dst_path)))\n",
    "\n",
    "dst_path = fpath+'test/VASC/'\n",
    "for img in VASC[VASC80:VASC80+VASC15]:\n",
    "    shutil.move(src_path+img, dst_path+img)\n",
    "print(len(os.listdir(dst_path)))\n",
    "    \n",
    "dst_path = fpath+'val/VASC/'\n",
    "for img in VASC[VASC80+VASC15:VASC80+VASC15+VASC5]:\n",
    "    shutil.move(src_path+img, dst_path+img)\n",
    "print(len(os.listdir(dst_path)))"
   ]
  },
  {
   "cell_type": "code",
   "execution_count": 11,
   "id": "6ae24ddb",
   "metadata": {},
   "outputs": [
    {
     "data": {
      "text/plain": [
       "(502, 94, 31)"
      ]
     },
     "execution_count": 11,
     "metadata": {},
     "output_type": "execute_result"
    }
   ],
   "source": [
    "SCC80 = int(np.round(len(SCC)*0.8))\n",
    "SCC15 = int(np.round(len(SCC)*0.15))\n",
    "SCC5 = int(np.round(len(SCC)*0.05))\n",
    "SCC80, SCC15, SCC5"
   ]
  },
  {
   "cell_type": "code",
   "execution_count": 12,
   "id": "3f4f96b7",
   "metadata": {},
   "outputs": [
    {
     "name": "stdout",
     "output_type": "stream",
     "text": [
      "502\n",
      "94\n",
      "31\n"
     ]
    }
   ],
   "source": [
    "src_path = fpath+'images/SCC/'\n",
    "\n",
    "dst_path = fpath+'train/SCC/'\n",
    "for img in SCC[:SCC80]:\n",
    "    shutil.move(src_path+img, dst_path+img)\n",
    "print(len(os.listdir(dst_path)))\n",
    "\n",
    "dst_path = fpath+'test/SCC/'\n",
    "for img in SCC[SCC80:SCC80+SCC15]:\n",
    "    shutil.move(src_path+img, dst_path+img)\n",
    "print(len(os.listdir(dst_path)))\n",
    "    \n",
    "dst_path = fpath+'val/SCC/'\n",
    "for img in SCC[SCC80+SCC15:SCC80+SCC15+SCC5]:\n",
    "    shutil.move(src_path+img, dst_path+img)\n",
    "print(len(os.listdir(dst_path)))"
   ]
  },
  {
   "cell_type": "code",
   "execution_count": 13,
   "id": "33531336",
   "metadata": {},
   "outputs": [
    {
     "name": "stdout",
     "output_type": "stream",
     "text": [
      "10300 1931 644\n",
      "10300\n",
      "1931\n",
      "644\n"
     ]
    }
   ],
   "source": [
    "arr = NV\n",
    "name = 'NV/'\n",
    "\n",
    "q80 = int(np.round(len(arr)*0.8))\n",
    "q15 = int(np.round(len(arr)*0.15))\n",
    "q5 = int(np.round(len(arr)*0.05))\n",
    "print(q80, q15, q5)\n",
    "\n",
    "src_path = fpath+'images/'+name\n",
    "\n",
    "dst_path = fpath+'train/'+name\n",
    "for img in arr[:q80]:\n",
    "    shutil.move(src_path+img, dst_path+img)\n",
    "print(len(os.listdir(dst_path)))\n",
    "\n",
    "dst_path = fpath+'test/'+name\n",
    "for img in arr[q80:q80+q15]:\n",
    "    shutil.move(src_path+img, dst_path+img)\n",
    "print(len(os.listdir(dst_path)))\n",
    "    \n",
    "dst_path = fpath+'val/'+name\n",
    "for img in arr[q80+q15:q80+q15+q5]:\n",
    "    shutil.move(src_path+img, dst_path+img)\n",
    "print(len(os.listdir(dst_path)))"
   ]
  },
  {
   "cell_type": "code",
   "execution_count": 14,
   "id": "f460f17a",
   "metadata": {},
   "outputs": [
    {
     "name": "stdout",
     "output_type": "stream",
     "text": [
      "3618 678 226\n",
      "3618\n",
      "678\n",
      "226\n"
     ]
    }
   ],
   "source": [
    "arr = MEL\n",
    "name = 'MEL/'\n",
    "\n",
    "q80 = int(np.round(len(arr)*0.8))\n",
    "q15 = int(np.round(len(arr)*0.15))\n",
    "q5 = int(np.round(len(arr)*0.05))\n",
    "print(q80, q15, q5)\n",
    "\n",
    "src_path = fpath+'images/'+name\n",
    "\n",
    "dst_path = fpath+'train/'+name\n",
    "for img in arr[:q80]:\n",
    "    shutil.move(src_path+img, dst_path+img)\n",
    "print(len(os.listdir(dst_path)))\n",
    "\n",
    "dst_path = fpath+'test/'+name\n",
    "for img in arr[q80:q80+q15]:\n",
    "    shutil.move(src_path+img, dst_path+img)\n",
    "print(len(os.listdir(dst_path)))\n",
    "    \n",
    "dst_path = fpath+'val/'+name\n",
    "for img in arr[q80+q15:q80+q15+q5]:\n",
    "    shutil.move(src_path+img, dst_path+img)\n",
    "print(len(os.listdir(dst_path)))"
   ]
  },
  {
   "cell_type": "code",
   "execution_count": 15,
   "id": "8396e484",
   "metadata": {},
   "outputs": [
    {
     "name": "stdout",
     "output_type": "stream",
     "text": [
      "191 36 12\n",
      "191\n",
      "36\n",
      "12\n"
     ]
    }
   ],
   "source": [
    "arr = DF\n",
    "name = 'DF/'\n",
    "\n",
    "q80 = int(np.round(len(arr)*0.8))\n",
    "q15 = int(np.round(len(arr)*0.15))\n",
    "q5 = int(np.round(len(arr)*0.05))\n",
    "print(q80, q15, q5)\n",
    "\n",
    "src_path = fpath+'images/'+name\n",
    "\n",
    "dst_path = fpath+'train/'+name\n",
    "for img in arr[:q80]:\n",
    "    shutil.move(src_path+img, dst_path+img)\n",
    "print(len(os.listdir(dst_path)))\n",
    "\n",
    "dst_path = fpath+'test/'+name\n",
    "for img in arr[q80:q80+q15]:\n",
    "    shutil.move(src_path+img, dst_path+img)\n",
    "print(len(os.listdir(dst_path)))\n",
    "    \n",
    "dst_path = fpath+'val/'+name\n",
    "for img in arr[q80+q15:q80+q15+q5]:\n",
    "    shutil.move(src_path+img, dst_path+img)\n",
    "print(len(os.listdir(dst_path)))"
   ]
  },
  {
   "cell_type": "code",
   "execution_count": 16,
   "id": "1bf34f7d",
   "metadata": {},
   "outputs": [
    {
     "name": "stdout",
     "output_type": "stream",
     "text": [
      "2099 394 131\n",
      "2099\n",
      "394\n",
      "131\n"
     ]
    }
   ],
   "source": [
    "arr = BKL\n",
    "name = 'BKL/'\n",
    "\n",
    "q80 = int(np.round(len(arr)*0.8))\n",
    "q15 = int(np.round(len(arr)*0.15))\n",
    "q5 = int(np.round(len(arr)*0.05))\n",
    "print(q80, q15, q5)\n",
    "\n",
    "src_path = fpath+'images/'+name\n",
    "\n",
    "dst_path = fpath+'train/'+name\n",
    "for img in arr[:q80]:\n",
    "    shutil.move(src_path+img, dst_path+img)\n",
    "print(len(os.listdir(dst_path)))\n",
    "\n",
    "dst_path = fpath+'test/'+name\n",
    "for img in arr[q80:q80+q15]:\n",
    "    shutil.move(src_path+img, dst_path+img)\n",
    "print(len(os.listdir(dst_path)))\n",
    "    \n",
    "dst_path = fpath+'val/'+name\n",
    "for img in arr[q80+q15:q80+q15+q5]:\n",
    "    shutil.move(src_path+img, dst_path+img)\n",
    "print(len(os.listdir(dst_path)))"
   ]
  },
  {
   "cell_type": "code",
   "execution_count": 17,
   "id": "04887196",
   "metadata": {},
   "outputs": [
    {
     "name": "stdout",
     "output_type": "stream",
     "text": [
      "2658 498 166\n",
      "2658\n",
      "498\n",
      "166\n"
     ]
    }
   ],
   "source": [
    "arr = BCC\n",
    "name = 'BCC/'\n",
    "\n",
    "q80 = int(np.round(len(arr)*0.8))\n",
    "q15 = int(np.round(len(arr)*0.15))\n",
    "q5 = int(np.round(len(arr)*0.05))\n",
    "print(q80, q15, q5)\n",
    "\n",
    "src_path = fpath+'images/'+name\n",
    "\n",
    "dst_path = fpath+'train/'+name\n",
    "for img in arr[:q80]:\n",
    "    shutil.move(src_path+img, dst_path+img)\n",
    "print(len(os.listdir(dst_path)))\n",
    "\n",
    "dst_path = fpath+'test/'+name\n",
    "for img in arr[q80:q80+q15]:\n",
    "    shutil.move(src_path+img, dst_path+img)\n",
    "print(len(os.listdir(dst_path)))\n",
    "    \n",
    "dst_path = fpath+'val/'+name\n",
    "for img in arr[q80+q15:q80+q15+q5]:\n",
    "    shutil.move(src_path+img, dst_path+img)\n",
    "print(len(os.listdir(dst_path)))"
   ]
  },
  {
   "cell_type": "code",
   "execution_count": 18,
   "id": "9c711ee5",
   "metadata": {},
   "outputs": [
    {
     "name": "stdout",
     "output_type": "stream",
     "text": [
      "694 130 43\n",
      "694\n",
      "130\n",
      "43\n"
     ]
    }
   ],
   "source": [
    "arr = AK\n",
    "name = 'AK/'\n",
    "\n",
    "q80 = int(np.round(len(arr)*0.8))\n",
    "q15 = int(np.round(len(arr)*0.15))\n",
    "q5 = int(np.round(len(arr)*0.05))\n",
    "print(q80, q15, q5)\n",
    "\n",
    "src_path = fpath+'images/'+name\n",
    "\n",
    "dst_path = fpath+'train/'+name\n",
    "for img in arr[:q80]:\n",
    "    shutil.move(src_path+img, dst_path+img)\n",
    "print(len(os.listdir(dst_path)))\n",
    "\n",
    "dst_path = fpath+'test/'+name\n",
    "for img in arr[q80:q80+q15]:\n",
    "    shutil.move(src_path+img, dst_path+img)\n",
    "print(len(os.listdir(dst_path)))\n",
    "    \n",
    "dst_path = fpath+'val/'+name\n",
    "for img in arr[q80+q15:q80+q15+q5]:\n",
    "    shutil.move(src_path+img, dst_path+img)\n",
    "print(len(os.listdir(dst_path)))"
   ]
  },
  {
   "cell_type": "code",
   "execution_count": null,
   "id": "34fee8f2",
   "metadata": {},
   "outputs": [],
   "source": []
  }
 ],
 "metadata": {
  "kernelspec": {
   "display_name": "Python 3",
   "language": "python",
   "name": "python3"
  },
  "language_info": {
   "codemirror_mode": {
    "name": "ipython",
    "version": 3
   },
   "file_extension": ".py",
   "mimetype": "text/x-python",
   "name": "python",
   "nbconvert_exporter": "python",
   "pygments_lexer": "ipython3",
   "version": "3.6.12"
  }
 },
 "nbformat": 4,
 "nbformat_minor": 5
}
